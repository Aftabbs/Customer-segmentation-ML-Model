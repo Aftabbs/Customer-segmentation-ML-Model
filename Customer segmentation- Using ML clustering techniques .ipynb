{
 "cells": [
  {
   "cell_type": "markdown",
   "id": "191da62a",
   "metadata": {},
   "source": [
    "### Customer segmentation:\n",
    "Use clustering techniques to segment customers based on their demographics and purchase history."
   ]
  },
  {
   "cell_type": "markdown",
   "id": "1393f791",
   "metadata": {},
   "source": [
    "K-Means Clustering is an unsupervised learning algorithm that is used to solve the clustering problems\n",
    "in machine learning or data science. In this topic, we will learn what is K-means clustering algorithm,\n",
    "how the algorithm works, along with the Python implementation of k-means clustering."
   ]
  },
  {
   "cell_type": "code",
   "execution_count": 1,
   "id": "ffd9930d",
   "metadata": {},
   "outputs": [],
   "source": [
    "import pandas as pd\n",
    "from sklearn.cluster import KMeans\n",
    "import matplotlib.pyplot as plt\n"
   ]
  },
  {
   "cell_type": "code",
   "execution_count": 2,
   "id": "b4bf17ac",
   "metadata": {},
   "outputs": [
    {
     "data": {
      "text/html": [
       "<div>\n",
       "<style scoped>\n",
       "    .dataframe tbody tr th:only-of-type {\n",
       "        vertical-align: middle;\n",
       "    }\n",
       "\n",
       "    .dataframe tbody tr th {\n",
       "        vertical-align: top;\n",
       "    }\n",
       "\n",
       "    .dataframe thead th {\n",
       "        text-align: right;\n",
       "    }\n",
       "</style>\n",
       "<table border=\"1\" class=\"dataframe\">\n",
       "  <thead>\n",
       "    <tr style=\"text-align: right;\">\n",
       "      <th></th>\n",
       "      <th>CustomerID</th>\n",
       "      <th>Genre</th>\n",
       "      <th>Age</th>\n",
       "      <th>Annual_Income_(k$)</th>\n",
       "      <th>Spending_Score</th>\n",
       "    </tr>\n",
       "  </thead>\n",
       "  <tbody>\n",
       "    <tr>\n",
       "      <th>0</th>\n",
       "      <td>1</td>\n",
       "      <td>Male</td>\n",
       "      <td>19</td>\n",
       "      <td>15</td>\n",
       "      <td>39</td>\n",
       "    </tr>\n",
       "    <tr>\n",
       "      <th>1</th>\n",
       "      <td>2</td>\n",
       "      <td>Male</td>\n",
       "      <td>21</td>\n",
       "      <td>15</td>\n",
       "      <td>81</td>\n",
       "    </tr>\n",
       "    <tr>\n",
       "      <th>2</th>\n",
       "      <td>3</td>\n",
       "      <td>Female</td>\n",
       "      <td>20</td>\n",
       "      <td>16</td>\n",
       "      <td>6</td>\n",
       "    </tr>\n",
       "    <tr>\n",
       "      <th>3</th>\n",
       "      <td>4</td>\n",
       "      <td>Female</td>\n",
       "      <td>23</td>\n",
       "      <td>16</td>\n",
       "      <td>77</td>\n",
       "    </tr>\n",
       "    <tr>\n",
       "      <th>4</th>\n",
       "      <td>5</td>\n",
       "      <td>Female</td>\n",
       "      <td>31</td>\n",
       "      <td>17</td>\n",
       "      <td>40</td>\n",
       "    </tr>\n",
       "  </tbody>\n",
       "</table>\n",
       "</div>"
      ],
      "text/plain": [
       "   CustomerID   Genre  Age  Annual_Income_(k$)  Spending_Score\n",
       "0           1    Male   19                  15              39\n",
       "1           2    Male   21                  15              81\n",
       "2           3  Female   20                  16               6\n",
       "3           4  Female   23                  16              77\n",
       "4           5  Female   31                  17              40"
      ]
     },
     "execution_count": 2,
     "metadata": {},
     "output_type": "execute_result"
    }
   ],
   "source": [
    "data = pd.read_csv(\"Mall_Customers.csv\")\n",
    "data.head()"
   ]
  },
  {
   "cell_type": "code",
   "execution_count": 3,
   "id": "b299960d",
   "metadata": {},
   "outputs": [
    {
     "name": "stdout",
     "output_type": "stream",
     "text": [
      "<class 'pandas.core.frame.DataFrame'>\n",
      "RangeIndex: 200 entries, 0 to 199\n",
      "Data columns (total 5 columns):\n",
      " #   Column              Non-Null Count  Dtype \n",
      "---  ------              --------------  ----- \n",
      " 0   CustomerID          200 non-null    int64 \n",
      " 1   Genre               200 non-null    object\n",
      " 2   Age                 200 non-null    int64 \n",
      " 3   Annual_Income_(k$)  200 non-null    int64 \n",
      " 4   Spending_Score      200 non-null    int64 \n",
      "dtypes: int64(4), object(1)\n",
      "memory usage: 7.9+ KB\n"
     ]
    }
   ],
   "source": [
    "data.info()"
   ]
  },
  {
   "cell_type": "code",
   "execution_count": 4,
   "id": "a22aaa01",
   "metadata": {},
   "outputs": [],
   "source": [
    "X = data[[\"Age\", \"Annual_Income_(k$)\", \"Spending_Score\"]]\n"
   ]
  },
  {
   "cell_type": "code",
   "execution_count": 5,
   "id": "a4887044",
   "metadata": {},
   "outputs": [],
   "source": [
    "# Create an instance of KMeans:\n",
    "kmeans = KMeans(n_clusters=4)\n"
   ]
  },
  {
   "cell_type": "code",
   "execution_count": 6,
   "id": "babcf421",
   "metadata": {
    "scrolled": true
   },
   "outputs": [
    {
     "data": {
      "text/plain": [
       "KMeans(n_clusters=4)"
      ]
     },
     "execution_count": 6,
     "metadata": {},
     "output_type": "execute_result"
    }
   ],
   "source": [
    "# fit\n",
    "kmeans.fit(X)\n"
   ]
  },
  {
   "cell_type": "code",
   "execution_count": 7,
   "id": "44280596",
   "metadata": {},
   "outputs": [],
   "source": [
    "# Use the model to predict the clusters:\n",
    "clusters = kmeans.predict(X)\n"
   ]
  },
  {
   "cell_type": "code",
   "execution_count": 8,
   "id": "7e136051",
   "metadata": {},
   "outputs": [],
   "source": [
    "# Add the clusters to the dataframe\n",
    "data[\"cluster\"] = clusters\n"
   ]
  },
  {
   "cell_type": "code",
   "execution_count": 14,
   "id": "9dc9794d",
   "metadata": {},
   "outputs": [
    {
     "name": "stderr",
     "output_type": "stream",
     "text": [
      "C:\\Users\\Admin\\AppData\\Local\\Temp\\ipykernel_412\\1122902619.py:1: FutureWarning: Indexing with multiple keys (implicitly converted to a tuple of keys) will be deprecated, use a list instead.\n",
      "  data.groupby(['Genre','Age'])['Annual_Income_(k$)','Spending_Score'].mean()\n"
     ]
    },
    {
     "data": {
      "text/html": [
       "<div>\n",
       "<style scoped>\n",
       "    .dataframe tbody tr th:only-of-type {\n",
       "        vertical-align: middle;\n",
       "    }\n",
       "\n",
       "    .dataframe tbody tr th {\n",
       "        vertical-align: top;\n",
       "    }\n",
       "\n",
       "    .dataframe thead th {\n",
       "        text-align: right;\n",
       "    }\n",
       "</style>\n",
       "<table border=\"1\" class=\"dataframe\">\n",
       "  <thead>\n",
       "    <tr style=\"text-align: right;\">\n",
       "      <th></th>\n",
       "      <th></th>\n",
       "      <th>Annual_Income_(k$)</th>\n",
       "      <th>Spending_Score</th>\n",
       "    </tr>\n",
       "    <tr>\n",
       "      <th>Genre</th>\n",
       "      <th>Age</th>\n",
       "      <th></th>\n",
       "      <th></th>\n",
       "    </tr>\n",
       "  </thead>\n",
       "  <tbody>\n",
       "    <tr>\n",
       "      <th rowspan=\"5\" valign=\"top\">Female</th>\n",
       "      <th>18</th>\n",
       "      <td>65.00</td>\n",
       "      <td>48.00</td>\n",
       "    </tr>\n",
       "    <tr>\n",
       "      <th>19</th>\n",
       "      <td>64.00</td>\n",
       "      <td>52.00</td>\n",
       "    </tr>\n",
       "    <tr>\n",
       "      <th>20</th>\n",
       "      <td>26.50</td>\n",
       "      <td>40.50</td>\n",
       "    </tr>\n",
       "    <tr>\n",
       "      <th>21</th>\n",
       "      <td>44.75</td>\n",
       "      <td>63.25</td>\n",
       "    </tr>\n",
       "    <tr>\n",
       "      <th>22</th>\n",
       "      <td>37.00</td>\n",
       "      <td>65.50</td>\n",
       "    </tr>\n",
       "    <tr>\n",
       "      <th>...</th>\n",
       "      <th>...</th>\n",
       "      <td>...</td>\n",
       "      <td>...</td>\n",
       "    </tr>\n",
       "    <tr>\n",
       "      <th rowspan=\"5\" valign=\"top\">Male</th>\n",
       "      <th>66</th>\n",
       "      <td>63.00</td>\n",
       "      <td>48.00</td>\n",
       "    </tr>\n",
       "    <tr>\n",
       "      <th>67</th>\n",
       "      <td>45.00</td>\n",
       "      <td>38.00</td>\n",
       "    </tr>\n",
       "    <tr>\n",
       "      <th>68</th>\n",
       "      <td>63.00</td>\n",
       "      <td>43.00</td>\n",
       "    </tr>\n",
       "    <tr>\n",
       "      <th>69</th>\n",
       "      <td>44.00</td>\n",
       "      <td>46.00</td>\n",
       "    </tr>\n",
       "    <tr>\n",
       "      <th>70</th>\n",
       "      <td>47.50</td>\n",
       "      <td>55.50</td>\n",
       "    </tr>\n",
       "  </tbody>\n",
       "</table>\n",
       "<p>87 rows × 2 columns</p>\n",
       "</div>"
      ],
      "text/plain": [
       "            Annual_Income_(k$)  Spending_Score\n",
       "Genre  Age                                    \n",
       "Female 18                65.00           48.00\n",
       "       19                64.00           52.00\n",
       "       20                26.50           40.50\n",
       "       21                44.75           63.25\n",
       "       22                37.00           65.50\n",
       "...                        ...             ...\n",
       "Male   66                63.00           48.00\n",
       "       67                45.00           38.00\n",
       "       68                63.00           43.00\n",
       "       69                44.00           46.00\n",
       "       70                47.50           55.50\n",
       "\n",
       "[87 rows x 2 columns]"
      ]
     },
     "execution_count": 14,
     "metadata": {},
     "output_type": "execute_result"
    }
   ],
   "source": [
    "data.groupby(['Genre','Age'])['Annual_Income_(k$)','Spending_Score'].mean()"
   ]
  },
  {
   "cell_type": "code",
   "execution_count": 9,
   "id": "f5d85572",
   "metadata": {},
   "outputs": [
    {
     "name": "stdout",
     "output_type": "stream",
     "text": [
      "         CustomerID        Age  Annual_Income_(k$)  Spending_Score\n",
      "cluster                                                           \n",
      "0         28.642857  24.821429           28.714286       74.250000\n",
      "1        162.000000  40.394737           87.000000       18.631579\n",
      "2         71.831579  44.894737           48.705263       42.631579\n",
      "3        162.000000  32.692308           86.538462       82.128205\n"
     ]
    }
   ],
   "source": [
    "# Analyze the clusters:\n",
    "cluster_mean = data.groupby([\"cluster\"]).mean()\n",
    "print(cluster_mean)\n"
   ]
  },
  {
   "cell_type": "code",
   "execution_count": 10,
   "id": "805887c8",
   "metadata": {},
   "outputs": [
    {
     "data": {
      "image/png": "[encoded data removed]",
      "text/plain": [
       "<Figure size 432x288 with 1 Axes>"
      ]
     },
     "metadata": {
      "needs_background": "light"
     },
     "output_type": "display_data"
    }
   ],
   "source": [
    "# Visualize the clusters:\n",
    "plt.scatter(data[data[\"cluster\"] == 0][\"Annual_Income_(k$)\"], data[data[\"cluster\"] == 0][\"Spending_Score\"], color='red')\n",
    "plt.scatter(data[data[\"cluster\"] == 1][\"Annual_Income_(k$)\"], data[data[\"cluster\"] == 1][\"Spending_Score\"], color='blue')\n",
    "plt.scatter(data[data[\"cluster\"] == 2][\"Annual_Income_(k$)\"], data[data[\"cluster\"] == 2][\"Spending_Score\"], color='green')\n",
    "plt.scatter(data[data[\"cluster\"] == 3][\"Annual_Income_(k$)\"], data[data[\"cluster\"] == 3][\"Spending_Score\"], color='purple')\n",
    "plt.show()\n",
    "\n"
   ]
  },
  {
   "cell_type": "code",
   "execution_count": null,
   "id": "c3de3f43",
   "metadata": {},
   "outputs": [],
   "source": []
  },
  {
   "cell_type": "code",
   "execution_count": null,
   "id": "a6d6ec17",
   "metadata": {},
   "outputs": [],
   "source": [
    "We can also say that clustering techniques are useful in understanding customer behavior,\n",
    "which can help to improve customer retention and acquisition."
   ]
  }
 ],
 "metadata": {
  "kernelspec": {
   "display_name": "Python 3 (ipykernel)",
   "language": "python",
   "name": "python3"
  },
  "language_info": {
   "codemirror_mode": {
    "name": "ipython",
    "version": 3
   },
   "file_extension": ".py",
   "mimetype": "text/x-python",
   "name": "python",
   "nbconvert_exporter": "python",
   "pygments_lexer": "ipython3",
   "version": "3.9.12"
  }
 },
 "nbformat": 4,
 "nbformat_minor": 5
}
